{
  "nbformat": 4,
  "nbformat_minor": 0,
  "metadata": {
    "kernelspec": {
      "display_name": "Python 3",
      "language": "python",
      "name": "python3"
    },
    "language_info": {
      "codemirror_mode": {
        "name": "ipython",
        "version": 3
      },
      "file_extension": ".py",
      "mimetype": "text/x-python",
      "name": "python",
      "nbconvert_exporter": "python",
      "pygments_lexer": "ipython3",
      "version": "3.7.4"
    },
    "colab": {
      "name": "Exercício-Aula04(Escola Livre de IA).ipynb",
      "provenance": [],
      "collapsed_sections": [],
      "include_colab_link": true
    }
  },
  "cells": [
    {
      "cell_type": "markdown",
      "metadata": {
        "id": "view-in-github",
        "colab_type": "text"
      },
      "source": [
        "<a href=\"https://colab.research.google.com/github/ViniViniAntunes/Escola_de_IA/blob/master/Exerc%C3%ADcio_Aula04(Escola_Livre_de_IA).ipynb\" target=\"_parent\"><img src=\"https://colab.research.google.com/assets/colab-badge.svg\" alt=\"Open In Colab\"/></a>"
      ]
    },
    {
      "cell_type": "markdown",
      "metadata": {
        "id": "omtjkzfWDDfl",
        "colab_type": "text"
      },
      "source": [
        "#Regressão Linear - Exercício\n",
        "https://github.com/ViniViniAntunes\n",
        "---"
      ]
    },
    {
      "cell_type": "markdown",
      "metadata": {
        "id": "EkPST5rFDDfv",
        "colab_type": "text"
      },
      "source": [
        "### Análise dos Data Sets\n",
        "\n",
        "    - Obtenção dos Dados\n",
        "    - Plot Inicial: primeiras intuições\n",
        "---"
      ]
    },
    {
      "cell_type": "code",
      "metadata": {
        "scrolled": false,
        "id": "RhGrJ0X4DDfx",
        "colab_type": "code",
        "colab": {
          "base_uri": "https://localhost:8080/",
          "height": 295
        },
        "outputId": "697f26c9-d646-45e5-870b-de4d812d2546"
      },
      "source": [
        "from numpy import *\n",
        "import matplotlib.pyplot as plt\n",
        "\n",
        "# Data set\n",
        "x = [4, 6, 8]\n",
        "y = [2, 3, 4]\n",
        "\n",
        "#Extrair as colunas\n",
        "x = array(x)\n",
        "y = array(y)\n",
        "\n",
        "#Plotar o data set\n",
        "plt.scatter(x,y)\n",
        "plt.xlabel('x')\n",
        "plt.ylabel('y')\n",
        "plt.title('Exercício')\n",
        "plt.show()"
      ],
      "execution_count": 25,
      "outputs": [
        {
          "output_type": "display_data",
          "data": {
            "image/png": "[encoded data removed]",
            "text/plain": [
              "<Figure size 432x288 with 1 Axes>"
            ]
          },
          "metadata": {
            "tags": []
          }
        }
      ]
    },
    {
      "cell_type": "markdown",
      "metadata": {
        "id": "W0qN1kaVDDf4",
        "colab_type": "text"
      },
      "source": [
        "---\n",
        "### Análise da Curva de Regressão\n",
        "\n",
        "    - Obtenção dos Parâmetros\n",
        "    - Plot da Reta de melhor Ajuste\n",
        "    - Realização de Previsões\n",
        "---"
      ]
    },
    {
      "cell_type": "code",
      "metadata": {
        "id": "la0TK3bXDDf7",
        "colab_type": "code",
        "colab": {
          "base_uri": "https://localhost:8080/",
          "height": 51
        },
        "outputId": "f985382d-132a-42fb-9429-4c7b87e8efa6"
      },
      "source": [
        "# Calcular o alpha\n",
        "m = (len(x)*cov(x, y)[0,1])/((len(x) - 1)*var(x))\n",
        "#m1 = np.cov(x, y)[0,1]/np.var(x)\n",
        "\n",
        "# Calcular o beta\n",
        "b = mean(y) - m * mean(x)\n",
        "#b1 = mean(y) - m1 * mean(x)\n",
        "\n",
        "# Printar alpha e beta\n",
        "print(m)\n",
        "print(b)\n",
        "#print(m1)\n",
        "#print(b1)"
      ],
      "execution_count": 26,
      "outputs": [
        {
          "output_type": "stream",
          "text": [
            "1.125\n",
            "-3.75\n"
          ],
          "name": "stdout"
        }
      ]
    },
    {
      "cell_type": "code",
      "metadata": {
        "scrolled": true,
        "id": "czl_nzmjDDgC",
        "colab_type": "code",
        "colab": {
          "base_uri": "https://localhost:8080/",
          "height": 295
        },
        "outputId": "81732d30-8fca-4715-cf55-acc5ee219771"
      },
      "source": [
        "#Plotar data set\n",
        "plt.scatter(x, y)\n",
        "\n",
        "#Valores previstos de y\n",
        "pred = m * x + b\n",
        "#pred1 = m1 * x + b1\n",
        "\n",
        "#Plotar previsões como a linha de melhor ajuste\n",
        "plt.plot(x, pred, c='r')\n",
        "#plt.plot(x, pred1, c='g')\n",
        "plt.xlabel('x')\n",
        "plt.ylabel('y')\n",
        "plt.title('Exercício - Reta de Regressão')\n",
        "plt.show()"
      ],
      "execution_count": 27,
      "outputs": [
        {
          "output_type": "display_data",
          "data": {
            "image/png": "[encoded data removed]",
            "text/plain": [
              "<Figure size 432x288 with 1 Axes>"
            ]
          },
          "metadata": {
            "tags": []
          }
        }
      ]
    },
    {
      "cell_type": "code",
      "metadata": {
        "id": "dDnXZmJIDDgG",
        "colab_type": "code",
        "colab": {
          "base_uri": "https://localhost:8080/",
          "height": 312
        },
        "outputId": "fc0aa168-9f71-4581-be31-17a4f935bee0"
      },
      "source": [
        "x_reais = [4, 6, 8]\n",
        "y_reais = [2, 3, 4]\n",
        "\n",
        "y_regressao =  [m * x + b for x in x_reais]\n",
        "\n",
        "plt.scatter(x_reais, y_reais, c='b')\n",
        "plt.scatter(x_reais, y_regressao, c='k')\n",
        "\n",
        "pred = m * x + b\n",
        "plt.plot(x, pred, c='r')\n",
        "plt.xlabel('x')\n",
        "plt.ylabel('y')\n",
        "plt.title('Exercício - Comparativo com a reta ajustada')\n",
        "plt.show()\n",
        "\n",
        "erro_proporcional = [round(100*(1 - i/j),2) for i, j in zip(y_reais, y_regressao)]\n",
        "print(erro_proporcional)"
      ],
      "execution_count": 30,
      "outputs": [
        {
          "output_type": "display_data",
          "data": {
            "image/png": "[encoded data removed]",
            "text/plain": [
              "<Figure size 432x288 with 1 Axes>"
            ]
          },
          "metadata": {
            "tags": []
          }
        },
        {
          "output_type": "stream",
          "text": [
            "[-166.67, 0.0, 23.81]\n"
          ],
          "name": "stdout"
        }
      ]
    },
    {
      "cell_type": "markdown",
      "metadata": {
        "id": "sVV6tqo5DDgK",
        "colab_type": "text"
      },
      "source": [
        "---\n",
        "### Análise do Modelo Final\n",
        "    - Cálculo da Correlação\n",
        "    - Pontos de Melhoria do Modelo\n",
        "---"
      ]
    },
    {
      "cell_type": "code",
      "metadata": {
        "scrolled": true,
        "colab_type": "code",
        "outputId": "3a5f9fca-7664-42a0-a277-d17264ae5a8c",
        "id": "HlDdlL6YLYfN",
        "colab": {
          "base_uri": "https://localhost:8080/",
          "height": 85
        }
      },
      "source": [
        "import numpy as np\n",
        "\n",
        "correlation_matrix = np.corrcoef(x, y)\n",
        "\n",
        "print(correlation_matrix)\n",
        "\n",
        "correlation_xy = correlation_matrix[0,1]\n",
        "\n",
        "print(\"Correlacao_XY = \", round(correlation_xy, 4))\n",
        "\n",
        "r_squared = correlation_xy**2\n",
        "print(\"R^2 = \", round(r_squared, 4))"
      ],
      "execution_count": 29,
      "outputs": [
        {
          "output_type": "stream",
          "text": [
            "[[1. 1.]\n",
            " [1. 1.]]\n",
            "Correlacao_XY =  1.0\n",
            "R^2 =  1.0\n"
          ],
          "name": "stdout"
        }
      ]
    }
  ]
}