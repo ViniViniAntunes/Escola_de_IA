{
  "nbformat": 4,
  "nbformat_minor": 0,
  "metadata": {
    "kernelspec": {
      "display_name": "Python 3",
      "language": "python",
      "name": "python3"
    },
    "language_info": {
      "codemirror_mode": {
        "name": "ipython",
        "version": 3
      },
      "file_extension": ".py",
      "mimetype": "text/x-python",
      "name": "python",
      "nbconvert_exporter": "python",
      "pygments_lexer": "ipython3",
      "version": "3.7.3"
    },
    "colab": {
      "name": "Exercicio_Aula07(Escola_Livre_de_IA).ipynb",
      "provenance": [],
      "collapsed_sections": [],
      "include_colab_link": true
    }
  },
  "cells": [
    {
      "cell_type": "markdown",
      "metadata": {
        "id": "view-in-github",
        "colab_type": "text"
      },
      "source": [
        "<a href=\"https://colab.research.google.com/github/ViniViniAntunes/Escola_de_IA/blob/master/Exercicio_Aula07(Escola_Livre_de_IA).ipynb\" target=\"_parent\"><img src=\"https://colab.research.google.com/assets/colab-badge.svg\" alt=\"Open In Colab\"/></a>"
      ]
    },
    {
      "cell_type": "markdown",
      "metadata": {
        "id": "PNUQLuDxgKZk",
        "colab_type": "text"
      },
      "source": [
        "# <center> Support Vector Machine </center>\n",
        "## Professor: Victor Venites\n",
        "## Estudante: Vinicius Antunes\n",
        "## Data: 14/04/2020\n",
        "## Aula: 07"
      ]
    },
    {
      "cell_type": "markdown",
      "metadata": {
        "id": "iCGlKwJqgKZl",
        "colab_type": "text"
      },
      "source": [
        "## 1. Importando as Bibliotecas de Python\n",
        "- E Verificando o Ambiente"
      ]
    },
    {
      "cell_type": "code",
      "metadata": {
        "id": "OyqBIy_ggKZm",
        "colab_type": "code",
        "colab": {}
      },
      "source": [
        "import pandas as pd\n",
        "import numpy as np\n",
        "import matplotlib.pyplot as plt\n",
        "%matplotlib inline"
      ],
      "execution_count": 0,
      "outputs": []
    },
    {
      "cell_type": "markdown",
      "metadata": {
        "id": "eDHL6ejzgKZq",
        "colab_type": "text"
      },
      "source": [
        "- Print Working Directory"
      ]
    },
    {
      "cell_type": "code",
      "metadata": {
        "id": "Hoz7DfhrgKZr",
        "colab_type": "code",
        "colab": {
          "base_uri": "https://localhost:8080/",
          "height": 34
        },
        "outputId": "fa2e6a00-f2de-4fc2-dace-5a665286e73f"
      },
      "source": [
        "pwd"
      ],
      "execution_count": 111,
      "outputs": [
        {
          "output_type": "execute_result",
          "data": {
            "text/plain": [
              "'/content'"
            ]
          },
          "metadata": {
            "tags": []
          },
          "execution_count": 111
        }
      ]
    },
    {
      "cell_type": "markdown",
      "metadata": {
        "id": "noJrGHpTgKZw",
        "colab_type": "text"
      },
      "source": [
        "- Minha Versão do Python\n",
        "- Python 3.7.3"
      ]
    },
    {
      "cell_type": "code",
      "metadata": {
        "id": "qcl-s_tpgKZw",
        "colab_type": "code",
        "colab": {
          "base_uri": "https://localhost:8080/",
          "height": 34
        },
        "outputId": "9d32a5e9-46be-4c80-97c5-42a2a885fe2a"
      },
      "source": [
        "!python  --version"
      ],
      "execution_count": 112,
      "outputs": [
        {
          "output_type": "stream",
          "text": [
            "Python 3.6.9\n"
          ],
          "name": "stdout"
        }
      ]
    },
    {
      "cell_type": "markdown",
      "metadata": {
        "id": "JZ9nI7zSgKZz",
        "colab_type": "text"
      },
      "source": [
        "## 2. Base de Dados OR\n",
        "- Verdadeiro OU Falso"
      ]
    },
    {
      "cell_type": "code",
      "metadata": {
        "id": "q8sozyrMgKZz",
        "colab_type": "code",
        "colab": {
          "base_uri": "https://localhost:8080/",
          "height": 204
        },
        "outputId": "bf9a14fc-0c2b-4ce3-f88f-91b89033b56f"
      },
      "source": [
        "df_OR = pd.read_excel(\"OR.xlsx\", index_col = \"Lição\")\n",
        "df_OR"
      ],
      "execution_count": 113,
      "outputs": [
        {
          "output_type": "execute_result",
          "data": {
            "text/html": [
              "<div>\n",
              "<style scoped>\n",
              "    .dataframe tbody tr th:only-of-type {\n",
              "        vertical-align: middle;\n",
              "    }\n",
              "\n",
              "    .dataframe tbody tr th {\n",
              "        vertical-align: top;\n",
              "    }\n",
              "\n",
              "    .dataframe thead th {\n",
              "        text-align: right;\n",
              "    }\n",
              "</style>\n",
              "<table border=\"1\" class=\"dataframe\">\n",
              "  <thead>\n",
              "    <tr style=\"text-align: right;\">\n",
              "      <th></th>\n",
              "      <th>Entrada_Um</th>\n",
              "      <th>Entrada_Dois</th>\n",
              "      <th>Saida_OR</th>\n",
              "    </tr>\n",
              "    <tr>\n",
              "      <th>Lição</th>\n",
              "      <th></th>\n",
              "      <th></th>\n",
              "      <th></th>\n",
              "    </tr>\n",
              "  </thead>\n",
              "  <tbody>\n",
              "    <tr>\n",
              "      <th>1</th>\n",
              "      <td>0</td>\n",
              "      <td>0</td>\n",
              "      <td>0</td>\n",
              "    </tr>\n",
              "    <tr>\n",
              "      <th>2</th>\n",
              "      <td>0</td>\n",
              "      <td>1</td>\n",
              "      <td>1</td>\n",
              "    </tr>\n",
              "    <tr>\n",
              "      <th>3</th>\n",
              "      <td>1</td>\n",
              "      <td>0</td>\n",
              "      <td>1</td>\n",
              "    </tr>\n",
              "    <tr>\n",
              "      <th>4</th>\n",
              "      <td>1</td>\n",
              "      <td>1</td>\n",
              "      <td>1</td>\n",
              "    </tr>\n",
              "  </tbody>\n",
              "</table>\n",
              "</div>"
            ],
            "text/plain": [
              "       Entrada_Um  Entrada_Dois  Saida_OR\n",
              "Lição                                    \n",
              "1               0             0         0\n",
              "2               0             1         1\n",
              "3               1             0         1\n",
              "4               1             1         1"
            ]
          },
          "metadata": {
            "tags": []
          },
          "execution_count": 113
        }
      ]
    },
    {
      "cell_type": "code",
      "metadata": {
        "id": "aMK2wmNegKZ2",
        "colab_type": "code",
        "colab": {
          "base_uri": "https://localhost:8080/",
          "height": 496
        },
        "outputId": "216097dc-9491-4b8a-c27b-28cae798a12b"
      },
      "source": [
        "cores = [\"blue\", \"orange\", \"orange\", \"orange\"]\n",
        "fig = plt.figure(figsize=(12, 8))\n",
        "plt.scatter(df_OR[\"Entrada_Um\"], df_OR[\"Entrada_Dois\"], c = cores)\n",
        "plt.title(\"Porta Lógica OR\", fontsize=20)\n",
        "plt.xlabel(\"Entrada_Um\", fontsize=16)\n",
        "plt.ylabel(\"Entrada_Dois\", fontsize=16)\n",
        "plt.savefig(\"Gráfico_OR.jpg\")\n",
        "plt.show()"
      ],
      "execution_count": 114,
      "outputs": [
        {
          "output_type": "display_data",
          "data": {
            "image/png": "[encoded data removed]",
            "text/plain": [
              "<Figure size 864x576 with 1 Axes>"
            ]
          },
          "metadata": {
            "tags": [],
            "needs_background": "light"
          }
        }
      ]
    },
    {
      "cell_type": "markdown",
      "metadata": {
        "id": "HZYj-RjXgKZ4",
        "colab_type": "text"
      },
      "source": [
        "## 3. Base de Dados AND\n",
        "- Verdadeiro E Falso"
      ]
    },
    {
      "cell_type": "code",
      "metadata": {
        "id": "rfTCCanDgKZ5",
        "colab_type": "code",
        "colab": {
          "base_uri": "https://localhost:8080/",
          "height": 204
        },
        "outputId": "c5aeb859-5620-418f-f424-74817eacfd2c"
      },
      "source": [
        "df_AND = pd.read_excel(\"AND.xlsx\", index_col = \"Lição\")\n",
        "df_AND"
      ],
      "execution_count": 115,
      "outputs": [
        {
          "output_type": "execute_result",
          "data": {
            "text/html": [
              "<div>\n",
              "<style scoped>\n",
              "    .dataframe tbody tr th:only-of-type {\n",
              "        vertical-align: middle;\n",
              "    }\n",
              "\n",
              "    .dataframe tbody tr th {\n",
              "        vertical-align: top;\n",
              "    }\n",
              "\n",
              "    .dataframe thead th {\n",
              "        text-align: right;\n",
              "    }\n",
              "</style>\n",
              "<table border=\"1\" class=\"dataframe\">\n",
              "  <thead>\n",
              "    <tr style=\"text-align: right;\">\n",
              "      <th></th>\n",
              "      <th>Entrada_Um</th>\n",
              "      <th>Entrada_Dois</th>\n",
              "      <th>Saida_AND</th>\n",
              "    </tr>\n",
              "    <tr>\n",
              "      <th>Lição</th>\n",
              "      <th></th>\n",
              "      <th></th>\n",
              "      <th></th>\n",
              "    </tr>\n",
              "  </thead>\n",
              "  <tbody>\n",
              "    <tr>\n",
              "      <th>1</th>\n",
              "      <td>0</td>\n",
              "      <td>0</td>\n",
              "      <td>0</td>\n",
              "    </tr>\n",
              "    <tr>\n",
              "      <th>2</th>\n",
              "      <td>0</td>\n",
              "      <td>1</td>\n",
              "      <td>0</td>\n",
              "    </tr>\n",
              "    <tr>\n",
              "      <th>3</th>\n",
              "      <td>1</td>\n",
              "      <td>0</td>\n",
              "      <td>0</td>\n",
              "    </tr>\n",
              "    <tr>\n",
              "      <th>4</th>\n",
              "      <td>1</td>\n",
              "      <td>1</td>\n",
              "      <td>1</td>\n",
              "    </tr>\n",
              "  </tbody>\n",
              "</table>\n",
              "</div>"
            ],
            "text/plain": [
              "       Entrada_Um  Entrada_Dois  Saida_AND\n",
              "Lição                                     \n",
              "1               0             0          0\n",
              "2               0             1          0\n",
              "3               1             0          0\n",
              "4               1             1          1"
            ]
          },
          "metadata": {
            "tags": []
          },
          "execution_count": 115
        }
      ]
    },
    {
      "cell_type": "code",
      "metadata": {
        "id": "BvtAvJQugKZ8",
        "colab_type": "code",
        "colab": {
          "base_uri": "https://localhost:8080/",
          "height": 496
        },
        "outputId": "cfddb811-37bb-4f42-80f9-270a4d9b88f8"
      },
      "source": [
        "cores = [\"blue\", \"blue\", \"blue\", \"orange\"]\n",
        "fig = plt.figure(figsize=(12, 8))\n",
        "plt.scatter(df_AND[\"Entrada_Um\"], df_AND[\"Entrada_Dois\"], c = cores)\n",
        "plt.title(\"Porta Lógica AND\", fontsize=20)\n",
        "plt.xlabel(\"Entrada_Um\", fontsize=16)\n",
        "plt.ylabel(\"Entrada_Dois\", fontsize=16)\n",
        "plt.savefig(\"Gráfico_AND.jpg\")\n",
        "plt.show()"
      ],
      "execution_count": 116,
      "outputs": [
        {
          "output_type": "display_data",
          "data": {
            "image/png": "[encoded data removed]",
            "text/plain": [
              "<Figure size 864x576 with 1 Axes>"
            ]
          },
          "metadata": {
            "tags": [],
            "needs_background": "light"
          }
        }
      ]
    },
    {
      "cell_type": "markdown",
      "metadata": {
        "id": "8xQo-WRDgKZ_",
        "colab_type": "text"
      },
      "source": [
        "## 4. Vamos Criar Nosso \"BigData\" de XOR"
      ]
    },
    {
      "cell_type": "code",
      "metadata": {
        "id": "1fXJmiuYgKZ_",
        "colab_type": "code",
        "colab": {
          "base_uri": "https://localhost:8080/",
          "height": 173
        },
        "outputId": "8d553097-1222-4ab8-ca35-0390c716e572"
      },
      "source": [
        "dados = {'Entrada_Um': [0, 0, 1, 1], \n",
        "         'Entrada_Dois': [0, 1, 0, 1], \n",
        "         'Saida_XOR': [0, 1, 1, 0]\n",
        "         }\n",
        "Indice = [1, 2, 3, 4]\n",
        "df_XOR = pd.DataFrame(dados)\n",
        "df_XOR"
      ],
      "execution_count": 117,
      "outputs": [
        {
          "output_type": "execute_result",
          "data": {
            "text/html": [
              "<div>\n",
              "<style scoped>\n",
              "    .dataframe tbody tr th:only-of-type {\n",
              "        vertical-align: middle;\n",
              "    }\n",
              "\n",
              "    .dataframe tbody tr th {\n",
              "        vertical-align: top;\n",
              "    }\n",
              "\n",
              "    .dataframe thead th {\n",
              "        text-align: right;\n",
              "    }\n",
              "</style>\n",
              "<table border=\"1\" class=\"dataframe\">\n",
              "  <thead>\n",
              "    <tr style=\"text-align: right;\">\n",
              "      <th></th>\n",
              "      <th>Entrada_Um</th>\n",
              "      <th>Entrada_Dois</th>\n",
              "      <th>Saida_XOR</th>\n",
              "    </tr>\n",
              "  </thead>\n",
              "  <tbody>\n",
              "    <tr>\n",
              "      <th>0</th>\n",
              "      <td>0</td>\n",
              "      <td>0</td>\n",
              "      <td>0</td>\n",
              "    </tr>\n",
              "    <tr>\n",
              "      <th>1</th>\n",
              "      <td>0</td>\n",
              "      <td>1</td>\n",
              "      <td>1</td>\n",
              "    </tr>\n",
              "    <tr>\n",
              "      <th>2</th>\n",
              "      <td>1</td>\n",
              "      <td>0</td>\n",
              "      <td>1</td>\n",
              "    </tr>\n",
              "    <tr>\n",
              "      <th>3</th>\n",
              "      <td>1</td>\n",
              "      <td>1</td>\n",
              "      <td>0</td>\n",
              "    </tr>\n",
              "  </tbody>\n",
              "</table>\n",
              "</div>"
            ],
            "text/plain": [
              "   Entrada_Um  Entrada_Dois  Saida_XOR\n",
              "0           0             0          0\n",
              "1           0             1          1\n",
              "2           1             0          1\n",
              "3           1             1          0"
            ]
          },
          "metadata": {
            "tags": []
          },
          "execution_count": 117
        }
      ]
    },
    {
      "cell_type": "markdown",
      "metadata": {
        "id": "GmdFuIKkoqrV",
        "colab_type": "text"
      },
      "source": [
        "# Ou..."
      ]
    },
    {
      "cell_type": "code",
      "metadata": {
        "id": "38EKRdOJn4tp",
        "colab_type": "code",
        "colab": {
          "base_uri": "https://localhost:8080/",
          "height": 204
        },
        "outputId": "f048c534-c639-41cb-d017-d875b01e940e"
      },
      "source": [
        "df_XOR = pd.read_excel(\"XOR.xlsx\", index_col = \"Lição\")\n",
        "df_XOR"
      ],
      "execution_count": 118,
      "outputs": [
        {
          "output_type": "execute_result",
          "data": {
            "text/html": [
              "<div>\n",
              "<style scoped>\n",
              "    .dataframe tbody tr th:only-of-type {\n",
              "        vertical-align: middle;\n",
              "    }\n",
              "\n",
              "    .dataframe tbody tr th {\n",
              "        vertical-align: top;\n",
              "    }\n",
              "\n",
              "    .dataframe thead th {\n",
              "        text-align: right;\n",
              "    }\n",
              "</style>\n",
              "<table border=\"1\" class=\"dataframe\">\n",
              "  <thead>\n",
              "    <tr style=\"text-align: right;\">\n",
              "      <th></th>\n",
              "      <th>Entrada_Um</th>\n",
              "      <th>Entrada_Dois</th>\n",
              "      <th>Saida_XOR</th>\n",
              "    </tr>\n",
              "    <tr>\n",
              "      <th>Lição</th>\n",
              "      <th></th>\n",
              "      <th></th>\n",
              "      <th></th>\n",
              "    </tr>\n",
              "  </thead>\n",
              "  <tbody>\n",
              "    <tr>\n",
              "      <th>1</th>\n",
              "      <td>0</td>\n",
              "      <td>0</td>\n",
              "      <td>0</td>\n",
              "    </tr>\n",
              "    <tr>\n",
              "      <th>2</th>\n",
              "      <td>0</td>\n",
              "      <td>1</td>\n",
              "      <td>1</td>\n",
              "    </tr>\n",
              "    <tr>\n",
              "      <th>3</th>\n",
              "      <td>1</td>\n",
              "      <td>0</td>\n",
              "      <td>1</td>\n",
              "    </tr>\n",
              "    <tr>\n",
              "      <th>4</th>\n",
              "      <td>1</td>\n",
              "      <td>1</td>\n",
              "      <td>0</td>\n",
              "    </tr>\n",
              "  </tbody>\n",
              "</table>\n",
              "</div>"
            ],
            "text/plain": [
              "       Entrada_Um  Entrada_Dois  Saida_XOR\n",
              "Lição                                     \n",
              "1               0             0          0\n",
              "2               0             1          1\n",
              "3               1             0          1\n",
              "4               1             1          0"
            ]
          },
          "metadata": {
            "tags": []
          },
          "execution_count": 118
        }
      ]
    },
    {
      "cell_type": "code",
      "metadata": {
        "id": "JTrD3_KIgKaH",
        "colab_type": "code",
        "colab": {
          "base_uri": "https://localhost:8080/",
          "height": 460
        },
        "outputId": "01586919-390b-4cf0-a084-e196c1a8a10d"
      },
      "source": [
        "cores = [\"blue\", \"orange\", \"orange\", \"blue\"]\n",
        "fig = plt.figure(figsize=(12, 8))\n",
        "plt.scatter(df_XOR[\"Entrada_Um\"], df_XOR[\"Entrada_Dois\"], c = cores)\n",
        "plt.title(\"Porta Lógica XOR\", fontsize=20)\n",
        "plt.xlabel(\"Entrada_Um\", fontsize=16)\n",
        "plt.ylabel(\"Entrada_Dois\", fontsize=16)\n",
        "plt.savefig(\"Gráfico_XOR.jpg\")\n",
        "plt.show()"
      ],
      "execution_count": 120,
      "outputs": [
        {
          "output_type": "display_data",
          "data": {
            "image/png": "[encoded data removed]",
            "text/plain": [
              "<Figure size 864x576 with 1 Axes>"
            ]
          },
          "metadata": {
            "tags": [],
            "needs_background": "light"
          }
        }
      ]
    },
    {
      "cell_type": "markdown",
      "metadata": {
        "id": "2-9qmv8HgKaJ",
        "colab_type": "text"
      },
      "source": [
        "## 5. Modelo Support Vector Machine\n",
        "- Machina de Vetor de Suporte"
      ]
    },
    {
      "cell_type": "code",
      "metadata": {
        "id": "HMfzT_H7gKaM",
        "colab_type": "code",
        "colab": {
          "base_uri": "https://localhost:8080/",
          "height": 204
        },
        "outputId": "e2260ff7-37d7-4cfc-cb11-c71cb4137d84"
      },
      "source": [
        "df_OR"
      ],
      "execution_count": 121,
      "outputs": [
        {
          "output_type": "execute_result",
          "data": {
            "text/html": [
              "<div>\n",
              "<style scoped>\n",
              "    .dataframe tbody tr th:only-of-type {\n",
              "        vertical-align: middle;\n",
              "    }\n",
              "\n",
              "    .dataframe tbody tr th {\n",
              "        vertical-align: top;\n",
              "    }\n",
              "\n",
              "    .dataframe thead th {\n",
              "        text-align: right;\n",
              "    }\n",
              "</style>\n",
              "<table border=\"1\" class=\"dataframe\">\n",
              "  <thead>\n",
              "    <tr style=\"text-align: right;\">\n",
              "      <th></th>\n",
              "      <th>Entrada_Um</th>\n",
              "      <th>Entrada_Dois</th>\n",
              "      <th>Saida_OR</th>\n",
              "    </tr>\n",
              "    <tr>\n",
              "      <th>Lição</th>\n",
              "      <th></th>\n",
              "      <th></th>\n",
              "      <th></th>\n",
              "    </tr>\n",
              "  </thead>\n",
              "  <tbody>\n",
              "    <tr>\n",
              "      <th>1</th>\n",
              "      <td>0</td>\n",
              "      <td>0</td>\n",
              "      <td>0</td>\n",
              "    </tr>\n",
              "    <tr>\n",
              "      <th>2</th>\n",
              "      <td>0</td>\n",
              "      <td>1</td>\n",
              "      <td>1</td>\n",
              "    </tr>\n",
              "    <tr>\n",
              "      <th>3</th>\n",
              "      <td>1</td>\n",
              "      <td>0</td>\n",
              "      <td>1</td>\n",
              "    </tr>\n",
              "    <tr>\n",
              "      <th>4</th>\n",
              "      <td>1</td>\n",
              "      <td>1</td>\n",
              "      <td>1</td>\n",
              "    </tr>\n",
              "  </tbody>\n",
              "</table>\n",
              "</div>"
            ],
            "text/plain": [
              "       Entrada_Um  Entrada_Dois  Saida_OR\n",
              "Lição                                    \n",
              "1               0             0         0\n",
              "2               0             1         1\n",
              "3               1             0         1\n",
              "4               1             1         1"
            ]
          },
          "metadata": {
            "tags": []
          },
          "execution_count": 121
        }
      ]
    },
    {
      "cell_type": "markdown",
      "metadata": {
        "id": "SN14w9TugKaO",
        "colab_type": "text"
      },
      "source": [
        "### 5.2. Versão do SkLearn"
      ]
    },
    {
      "cell_type": "code",
      "metadata": {
        "id": "8rinNXiOgKaO",
        "colab_type": "code",
        "colab": {}
      },
      "source": [
        "from sklearn.pipeline import Pipeline # Linha de trabalho (?)\n",
        "from sklearn.preprocessing import StandardScaler # Para normalizar os dados\n",
        "from sklearn.svm import LinearSVC # Para fazer a SVM\n",
        "from sklearn.metrics import confusion_matrix # Para fazer as métricas"
      ],
      "execution_count": 0,
      "outputs": []
    },
    {
      "cell_type": "markdown",
      "metadata": {
        "id": "wDCH7v7mgKaR",
        "colab_type": "text"
      },
      "source": [
        "#### 5.2.1. Classificando OR"
      ]
    },
    {
      "cell_type": "code",
      "metadata": {
        "id": "us0GX9b-gKaR",
        "colab_type": "code",
        "colab": {
          "base_uri": "https://localhost:8080/",
          "height": 119
        },
        "outputId": "18e1309b-2eb3-4518-a605-72f0d2491b89"
      },
      "source": [
        "X_OR = df_OR.iloc[:, 0:-1]\n",
        "y_OR = df_OR.iloc[:, -1]\n",
        "y_OR"
      ],
      "execution_count": 123,
      "outputs": [
        {
          "output_type": "execute_result",
          "data": {
            "text/plain": [
              "Lição\n",
              "1    0\n",
              "2    1\n",
              "3    1\n",
              "4    1\n",
              "Name: Saida_OR, dtype: int64"
            ]
          },
          "metadata": {
            "tags": []
          },
          "execution_count": 123
        }
      ]
    },
    {
      "cell_type": "code",
      "metadata": {
        "id": "QkOXEvYfgKaV",
        "colab_type": "code",
        "colab": {
          "base_uri": "https://localhost:8080/",
          "height": 187
        },
        "outputId": "b7a3e79f-4c91-4f34-db70-2a0873189229"
      },
      "source": [
        "svm_clf_OR = Pipeline([\n",
        "    (\"scaler\", StandardScaler()),\n",
        "    (\"linear_svc\", LinearSVC(C = 0.5, loss = \"hinge\", penalty='l2')),\n",
        "])\n",
        "svm_clf_OR.fit(X_OR, y_OR)"
      ],
      "execution_count": 124,
      "outputs": [
        {
          "output_type": "execute_result",
          "data": {
            "text/plain": [
              "Pipeline(memory=None,\n",
              "         steps=[('scaler',\n",
              "                 StandardScaler(copy=True, with_mean=True, with_std=True)),\n",
              "                ('linear_svc',\n",
              "                 LinearSVC(C=0.5, class_weight=None, dual=True,\n",
              "                           fit_intercept=True, intercept_scaling=1,\n",
              "                           loss='hinge', max_iter=1000, multi_class='ovr',\n",
              "                           penalty='l2', random_state=None, tol=0.0001,\n",
              "                           verbose=0))],\n",
              "         verbose=False)"
            ]
          },
          "metadata": {
            "tags": []
          },
          "execution_count": 124
        }
      ]
    },
    {
      "cell_type": "markdown",
      "metadata": {
        "id": "vzhxNXyIgKaY",
        "colab_type": "text"
      },
      "source": [
        "#### 5.2.1.1. Resultados OR"
      ]
    },
    {
      "cell_type": "code",
      "metadata": {
        "id": "nSc6ibPtgKaZ",
        "colab_type": "code",
        "colab": {
          "base_uri": "https://localhost:8080/",
          "height": 34
        },
        "outputId": "044ec9bb-1fad-49b1-b6a6-f65cf96334a6"
      },
      "source": [
        "svm_clf_OR.predict([[0, 0]])"
      ],
      "execution_count": 125,
      "outputs": [
        {
          "output_type": "execute_result",
          "data": {
            "text/plain": [
              "array([0])"
            ]
          },
          "metadata": {
            "tags": []
          },
          "execution_count": 125
        }
      ]
    },
    {
      "cell_type": "code",
      "metadata": {
        "id": "uh3usokXgKac",
        "colab_type": "code",
        "colab": {
          "base_uri": "https://localhost:8080/",
          "height": 34
        },
        "outputId": "a43d90ec-99fc-4a26-b7c9-d2a319363ae1"
      },
      "source": [
        "svm_clf_OR.predict([[0, 1]])"
      ],
      "execution_count": 126,
      "outputs": [
        {
          "output_type": "execute_result",
          "data": {
            "text/plain": [
              "array([1])"
            ]
          },
          "metadata": {
            "tags": []
          },
          "execution_count": 126
        }
      ]
    },
    {
      "cell_type": "code",
      "metadata": {
        "id": "FptWqn8ngKae",
        "colab_type": "code",
        "colab": {
          "base_uri": "https://localhost:8080/",
          "height": 34
        },
        "outputId": "ebf47328-afc8-46ba-d14e-d88e2c135e61"
      },
      "source": [
        "svm_clf_OR.predict([[1, 0]])"
      ],
      "execution_count": 127,
      "outputs": [
        {
          "output_type": "execute_result",
          "data": {
            "text/plain": [
              "array([1])"
            ]
          },
          "metadata": {
            "tags": []
          },
          "execution_count": 127
        }
      ]
    },
    {
      "cell_type": "code",
      "metadata": {
        "id": "cIZOuSyxgKag",
        "colab_type": "code",
        "colab": {
          "base_uri": "https://localhost:8080/",
          "height": 34
        },
        "outputId": "4ed92f4b-9952-4db2-fc73-4e41d25792be"
      },
      "source": [
        "svm_clf_OR.predict([[1, 1]])"
      ],
      "execution_count": 128,
      "outputs": [
        {
          "output_type": "execute_result",
          "data": {
            "text/plain": [
              "array([1])"
            ]
          },
          "metadata": {
            "tags": []
          },
          "execution_count": 128
        }
      ]
    },
    {
      "cell_type": "markdown",
      "metadata": {
        "id": "kzghhHEQgKai",
        "colab_type": "text"
      },
      "source": [
        "#### 5.2.1.2. Matriz de Confusão\n",
        "- A função considera os rótulos na ordem de chegada\n",
        "- 0 como sendo a primeira classificação\n",
        "- 1 como sendo a segunda classificação"
      ]
    },
    {
      "cell_type": "code",
      "metadata": {
        "id": "1FhUmMZugKai",
        "colab_type": "code",
        "colab": {
          "base_uri": "https://localhost:8080/",
          "height": 51
        },
        "outputId": "c91e07cf-4f3e-448f-97a3-a45535f357b4"
      },
      "source": [
        "Predicao_OR = svm_clf_OR.predict(X_OR)\n",
        "confusion_matrix(y_OR, Predicao_OR)"
      ],
      "execution_count": 129,
      "outputs": [
        {
          "output_type": "execute_result",
          "data": {
            "text/plain": [
              "array([[1, 0],\n",
              "       [0, 3]])"
            ]
          },
          "metadata": {
            "tags": []
          },
          "execution_count": 129
        }
      ]
    },
    {
      "cell_type": "code",
      "metadata": {
        "id": "OoI2zVDmgKal",
        "colab_type": "code",
        "colab": {
          "base_uri": "https://localhost:8080/",
          "height": 204
        },
        "outputId": "415949c1-441a-4603-dd53-d431479d5335"
      },
      "source": [
        "df_OR_Predicao = df_OR.copy()\n",
        "df_OR_Predicao[\"Predicao\"] = Predicao_OR\n",
        "df_OR_Predicao"
      ],
      "execution_count": 130,
      "outputs": [
        {
          "output_type": "execute_result",
          "data": {
            "text/html": [
              "<div>\n",
              "<style scoped>\n",
              "    .dataframe tbody tr th:only-of-type {\n",
              "        vertical-align: middle;\n",
              "    }\n",
              "\n",
              "    .dataframe tbody tr th {\n",
              "        vertical-align: top;\n",
              "    }\n",
              "\n",
              "    .dataframe thead th {\n",
              "        text-align: right;\n",
              "    }\n",
              "</style>\n",
              "<table border=\"1\" class=\"dataframe\">\n",
              "  <thead>\n",
              "    <tr style=\"text-align: right;\">\n",
              "      <th></th>\n",
              "      <th>Entrada_Um</th>\n",
              "      <th>Entrada_Dois</th>\n",
              "      <th>Saida_OR</th>\n",
              "      <th>Predicao</th>\n",
              "    </tr>\n",
              "    <tr>\n",
              "      <th>Lição</th>\n",
              "      <th></th>\n",
              "      <th></th>\n",
              "      <th></th>\n",
              "      <th></th>\n",
              "    </tr>\n",
              "  </thead>\n",
              "  <tbody>\n",
              "    <tr>\n",
              "      <th>1</th>\n",
              "      <td>0</td>\n",
              "      <td>0</td>\n",
              "      <td>0</td>\n",
              "      <td>0</td>\n",
              "    </tr>\n",
              "    <tr>\n",
              "      <th>2</th>\n",
              "      <td>0</td>\n",
              "      <td>1</td>\n",
              "      <td>1</td>\n",
              "      <td>1</td>\n",
              "    </tr>\n",
              "    <tr>\n",
              "      <th>3</th>\n",
              "      <td>1</td>\n",
              "      <td>0</td>\n",
              "      <td>1</td>\n",
              "      <td>1</td>\n",
              "    </tr>\n",
              "    <tr>\n",
              "      <th>4</th>\n",
              "      <td>1</td>\n",
              "      <td>1</td>\n",
              "      <td>1</td>\n",
              "      <td>1</td>\n",
              "    </tr>\n",
              "  </tbody>\n",
              "</table>\n",
              "</div>"
            ],
            "text/plain": [
              "       Entrada_Um  Entrada_Dois  Saida_OR  Predicao\n",
              "Lição                                              \n",
              "1               0             0         0         0\n",
              "2               0             1         1         1\n",
              "3               1             0         1         1\n",
              "4               1             1         1         1"
            ]
          },
          "metadata": {
            "tags": []
          },
          "execution_count": 130
        }
      ]
    },
    {
      "cell_type": "markdown",
      "metadata": {
        "id": "X2QTssHRgKan",
        "colab_type": "text"
      },
      "source": [
        "#### 5.2.1.1. Plotando o Vetor de Suporte\n",
        "- mlxtend\n",
        "- Pacote para imprimir Gráficos de Classificação bonitos, tipo nos livros\n",
        "- Herda do MatPlotLib\n",
        "- pip = Python Installer Package"
      ]
    },
    {
      "cell_type": "code",
      "metadata": {
        "id": "TsJasw04gKan",
        "colab_type": "code",
        "colab": {}
      },
      "source": [
        "#!pip install mlxtend"
      ],
      "execution_count": 0,
      "outputs": []
    },
    {
      "cell_type": "code",
      "metadata": {
        "id": "riwbs_pWgKaq",
        "colab_type": "code",
        "colab": {}
      },
      "source": [
        "from mlxtend.plotting import plot_decision_regions"
      ],
      "execution_count": 0,
      "outputs": []
    },
    {
      "cell_type": "code",
      "metadata": {
        "id": "7Xy2DjalgKas",
        "colab_type": "code",
        "colab": {
          "base_uri": "https://localhost:8080/",
          "height": 469
        },
        "outputId": "1c13c752-fb87-4d73-c239-1c118302bd5e"
      },
      "source": [
        "Parametros_Plot_mlxtend = {\"X\" : X_OR.values ,\n",
        "                           \"y\" : y_OR.values ,\n",
        "                           \"clf\" : svm_clf_OR ,\n",
        "                           \"legend\" : 2\n",
        "                          }\n",
        "fig = plt.figure(figsize=(8, 6))\n",
        "plot_decision_regions(**Parametros_Plot_mlxtend)\n",
        "plt.xlabel(X_OR.columns[0], size=16)\n",
        "plt.ylabel(X_OR.columns[1], size=16)\n",
        "plt.title('Fronteira Separadora do SVM para OR', size=20)\n",
        "plt.show();"
      ],
      "execution_count": 133,
      "outputs": [
        {
          "output_type": "stream",
          "text": [
            "/usr/local/lib/python3.6/dist-packages/mlxtend/plotting/decision_regions.py:244: MatplotlibDeprecationWarning: Passing unsupported keyword arguments to axis() will raise a TypeError in 3.3.\n",
            "  ax.axis(xmin=xx.min(), xmax=xx.max(), y_min=yy.min(), y_max=yy.max())\n"
          ],
          "name": "stderr"
        },
        {
          "output_type": "display_data",
          "data": {
            "image/png": "[encoded data removed]",
            "text/plain": [
              "<Figure size 576x432 with 1 Axes>"
            ]
          },
          "metadata": {
            "tags": [],
            "needs_background": "light"
          }
        }
      ]
    },
    {
      "cell_type": "markdown",
      "metadata": {
        "id": "7FBCXlqFgKau",
        "colab_type": "text"
      },
      "source": [
        "### 5.2.2. Classificando AND"
      ]
    },
    {
      "cell_type": "code",
      "metadata": {
        "id": "nG9H9ZlXgKav",
        "colab_type": "code",
        "colab": {
          "base_uri": "https://localhost:8080/",
          "height": 51
        },
        "outputId": "ad095a39-ef37-437b-e7fc-944d945289af"
      },
      "source": [
        "X_AND = df_AND.iloc[:, 0:-1]\n",
        "y_AND = df_AND.iloc[:, -1]\n",
        "svm_clf_AND = Pipeline([\n",
        "    (\"scaler\", StandardScaler()),\n",
        "    (\"linear_svc\", LinearSVC(C = 1, loss = \"hinge\", penalty='l2')),\n",
        "])\n",
        "svm_clf_AND.fit(X_AND, y_AND)\n",
        "Predicao_AND = svm_clf_AND.predict(X_AND)\n",
        "confusion_matrix(y_AND, Predicao_AND)"
      ],
      "execution_count": 134,
      "outputs": [
        {
          "output_type": "execute_result",
          "data": {
            "text/plain": [
              "array([[3, 0],\n",
              "       [0, 1]])"
            ]
          },
          "metadata": {
            "tags": []
          },
          "execution_count": 134
        }
      ]
    },
    {
      "cell_type": "markdown",
      "metadata": {
        "id": "sLvm7CHmgKax",
        "colab_type": "text"
      },
      "source": [
        "#### 5.2.2.1. Plotando o Vetor de Suporte"
      ]
    },
    {
      "cell_type": "code",
      "metadata": {
        "id": "PkZtB4JDgKax",
        "colab_type": "code",
        "colab": {
          "base_uri": "https://localhost:8080/",
          "height": 469
        },
        "outputId": "6a101c66-f2d1-4b0e-ec78-654d87878d87"
      },
      "source": [
        "Parametros_Plot_mlxtend = {\"X\" : X_AND.values ,\n",
        "                           \"y\" : y_AND.values ,\n",
        "                           \"clf\" : svm_clf_AND ,\n",
        "                           \"legend\" : 2\n",
        "                          }\n",
        "fig = plt.figure(figsize=(8, 6))\n",
        "plot_decision_regions(**Parametros_Plot_mlxtend)\n",
        "plt.xlabel(X_AND.columns[0], size=16)\n",
        "plt.ylabel(X_AND.columns[1], size=16)\n",
        "plt.title('Fronteira Separadora do SVM para AND', size=20)\n",
        "plt.show();"
      ],
      "execution_count": 135,
      "outputs": [
        {
          "output_type": "stream",
          "text": [
            "/usr/local/lib/python3.6/dist-packages/mlxtend/plotting/decision_regions.py:244: MatplotlibDeprecationWarning: Passing unsupported keyword arguments to axis() will raise a TypeError in 3.3.\n",
            "  ax.axis(xmin=xx.min(), xmax=xx.max(), y_min=yy.min(), y_max=yy.max())\n"
          ],
          "name": "stderr"
        },
        {
          "output_type": "display_data",
          "data": {
            "image/png": "[encoded data removed]",
            "text/plain": [
              "<Figure size 576x432 with 1 Axes>"
            ]
          },
          "metadata": {
            "tags": [],
            "needs_background": "light"
          }
        }
      ]
    },
    {
      "cell_type": "markdown",
      "metadata": {
        "id": "-1VvYcbGgKa0",
        "colab_type": "text"
      },
      "source": [
        "### 5.2.3. Classificando XOR"
      ]
    },
    {
      "cell_type": "code",
      "metadata": {
        "id": "Zlw_laMSgKa1",
        "colab_type": "code",
        "colab": {
          "base_uri": "https://localhost:8080/",
          "height": 68
        },
        "outputId": "ee857dd0-ef95-410d-cb4c-814f05de0158"
      },
      "source": [
        "X_XOR = df_XOR.iloc[:, 0:-1]\n",
        "y_XOR = df_XOR.iloc[:, -1]\n",
        "svm_clf_XOR = Pipeline([\n",
        "    (\"scaler\", StandardScaler()),\n",
        "    (\"linear_svc\", LinearSVC(C = 1, loss = \"squared_hinge\", penalty='l2')),\n",
        "])\n",
        "svm_clf_XOR.fit(X_XOR, y_XOR)\n",
        "Predito_XOR = svm_clf_XOR.predict(X_XOR)\n",
        "print(Predito_XOR)\n",
        "confusion_matrix(y_XOR, Predito_XOR)"
      ],
      "execution_count": 136,
      "outputs": [
        {
          "output_type": "stream",
          "text": [
            "[1 1 0 0]\n"
          ],
          "name": "stdout"
        },
        {
          "output_type": "execute_result",
          "data": {
            "text/plain": [
              "array([[1, 1],\n",
              "       [1, 1]])"
            ]
          },
          "metadata": {
            "tags": []
          },
          "execution_count": 136
        }
      ]
    },
    {
      "cell_type": "markdown",
      "metadata": {
        "id": "Dtj8lS3WgKa3",
        "colab_type": "text"
      },
      "source": [
        "- Por que não deu certo acima?"
      ]
    },
    {
      "cell_type": "code",
      "metadata": {
        "id": "K_1GZ2LTgKa4",
        "colab_type": "code",
        "colab": {}
      },
      "source": [
        "from sklearn.preprocessing import PolynomialFeatures"
      ],
      "execution_count": 0,
      "outputs": []
    },
    {
      "cell_type": "code",
      "metadata": {
        "id": "oSdO8UNKgKa6",
        "colab_type": "code",
        "colab": {
          "base_uri": "https://localhost:8080/",
          "height": 51
        },
        "outputId": "8c3d4148-29b1-42ed-d391-9bff37c48d76"
      },
      "source": [
        "X_XOR = df_XOR.iloc[:, 0:-1]\n",
        "y_XOR = df_XOR.iloc[:, -1]\n",
        "svm_clf_XOR = Pipeline([\n",
        "    (\"poly_features\", PolynomialFeatures(degree = 2)),\n",
        "    (\"linear_svc\", LinearSVC(C = 1, loss = \"squared_hinge\", penalty='l2', )),\n",
        "])\n",
        "svm_clf_XOR.fit(X_XOR, y_XOR)\n",
        "Predito_XOR = svm_clf_XOR.predict(X_XOR)\n",
        "confusion_matrix(y_XOR, Predito_XOR)"
      ],
      "execution_count": 138,
      "outputs": [
        {
          "output_type": "execute_result",
          "data": {
            "text/plain": [
              "array([[2, 0],\n",
              "       [0, 2]])"
            ]
          },
          "metadata": {
            "tags": []
          },
          "execution_count": 138
        }
      ]
    },
    {
      "cell_type": "code",
      "metadata": {
        "id": "A-mI-s6qgKa8",
        "colab_type": "code",
        "colab": {
          "base_uri": "https://localhost:8080/",
          "height": 204
        },
        "outputId": "2e5946d4-b077-4243-b68d-2534aa91f8a5"
      },
      "source": [
        "df_XOR_Resultado = df_XOR.copy()\n",
        "df_XOR_Resultado[\"Predito_XOR\"] = Predito_XOR\n",
        "df_XOR_Resultado"
      ],
      "execution_count": 139,
      "outputs": [
        {
          "output_type": "execute_result",
          "data": {
            "text/html": [
              "<div>\n",
              "<style scoped>\n",
              "    .dataframe tbody tr th:only-of-type {\n",
              "        vertical-align: middle;\n",
              "    }\n",
              "\n",
              "    .dataframe tbody tr th {\n",
              "        vertical-align: top;\n",
              "    }\n",
              "\n",
              "    .dataframe thead th {\n",
              "        text-align: right;\n",
              "    }\n",
              "</style>\n",
              "<table border=\"1\" class=\"dataframe\">\n",
              "  <thead>\n",
              "    <tr style=\"text-align: right;\">\n",
              "      <th></th>\n",
              "      <th>Entrada_Um</th>\n",
              "      <th>Entrada_Dois</th>\n",
              "      <th>Saida_XOR</th>\n",
              "      <th>Predito_XOR</th>\n",
              "    </tr>\n",
              "    <tr>\n",
              "      <th>Lição</th>\n",
              "      <th></th>\n",
              "      <th></th>\n",
              "      <th></th>\n",
              "      <th></th>\n",
              "    </tr>\n",
              "  </thead>\n",
              "  <tbody>\n",
              "    <tr>\n",
              "      <th>1</th>\n",
              "      <td>0</td>\n",
              "      <td>0</td>\n",
              "      <td>0</td>\n",
              "      <td>0</td>\n",
              "    </tr>\n",
              "    <tr>\n",
              "      <th>2</th>\n",
              "      <td>0</td>\n",
              "      <td>1</td>\n",
              "      <td>1</td>\n",
              "      <td>1</td>\n",
              "    </tr>\n",
              "    <tr>\n",
              "      <th>3</th>\n",
              "      <td>1</td>\n",
              "      <td>0</td>\n",
              "      <td>1</td>\n",
              "      <td>1</td>\n",
              "    </tr>\n",
              "    <tr>\n",
              "      <th>4</th>\n",
              "      <td>1</td>\n",
              "      <td>1</td>\n",
              "      <td>0</td>\n",
              "      <td>0</td>\n",
              "    </tr>\n",
              "  </tbody>\n",
              "</table>\n",
              "</div>"
            ],
            "text/plain": [
              "       Entrada_Um  Entrada_Dois  Saida_XOR  Predito_XOR\n",
              "Lição                                                  \n",
              "1               0             0          0            0\n",
              "2               0             1          1            1\n",
              "3               1             0          1            1\n",
              "4               1             1          0            0"
            ]
          },
          "metadata": {
            "tags": []
          },
          "execution_count": 139
        }
      ]
    },
    {
      "cell_type": "markdown",
      "metadata": {
        "id": "WoZMwgaIgKa-",
        "colab_type": "text"
      },
      "source": [
        "#### 5.2.3.1. Plotando o Vetor de Suporte"
      ]
    },
    {
      "cell_type": "code",
      "metadata": {
        "id": "Kd6mvgM7gKa-",
        "colab_type": "code",
        "colab": {
          "base_uri": "https://localhost:8080/",
          "height": 469
        },
        "outputId": "75463ff0-558f-496c-d0fe-a45c43413c9f"
      },
      "source": [
        "Parametros_Plot_mlxtend = {\"X\" : X_XOR.values ,\n",
        "                           \"y\" : y_XOR.values ,\n",
        "                           \"clf\" : svm_clf_XOR ,\n",
        "                           \"legend\" : 2\n",
        "                          }\n",
        "fig = plt.figure(figsize=(8, 6))\n",
        "plot_decision_regions(**Parametros_Plot_mlxtend)\n",
        "plt.xlabel(X_XOR.columns[0], size=16)\n",
        "plt.ylabel(X_XOR.columns[1], size=16)\n",
        "plt.title('Fronteira Separadora do SVM para XOR', size=20)\n",
        "plt.show();"
      ],
      "execution_count": 140,
      "outputs": [
        {
          "output_type": "stream",
          "text": [
            "/usr/local/lib/python3.6/dist-packages/mlxtend/plotting/decision_regions.py:244: MatplotlibDeprecationWarning: Passing unsupported keyword arguments to axis() will raise a TypeError in 3.3.\n",
            "  ax.axis(xmin=xx.min(), xmax=xx.max(), y_min=yy.min(), y_max=yy.max())\n"
          ],
          "name": "stderr"
        },
        {
          "output_type": "display_data",
          "data": {
            "image/png": "[encoded data removed]",
            "text/plain": [
              "<Figure size 576x432 with 1 Axes>"
            ]
          },
          "metadata": {
            "tags": [],
            "needs_background": "light"
          }
        }
      ]
    },
    {
      "cell_type": "markdown",
      "metadata": {
        "id": "evt17SHBgKbB",
        "colab_type": "text"
      },
      "source": [
        "### 5.2.4. Classificando Tipos de Cancer"
      ]
    },
    {
      "cell_type": "code",
      "metadata": {
        "id": "qRmoY6IcgKbB",
        "colab_type": "code",
        "colab": {
          "base_uri": "https://localhost:8080/",
          "height": 255
        },
        "outputId": "940ae895-136d-45b5-a2f7-d581a97bff1a"
      },
      "source": [
        "df_Cancer = pd.read_excel(\"breastCancer.xlsx\", index_col = \"id\")\n",
        "df_Cancer.head()"
      ],
      "execution_count": 141,
      "outputs": [
        {
          "output_type": "execute_result",
          "data": {
            "text/html": [
              "<div>\n",
              "<style scoped>\n",
              "    .dataframe tbody tr th:only-of-type {\n",
              "        vertical-align: middle;\n",
              "    }\n",
              "\n",
              "    .dataframe tbody tr th {\n",
              "        vertical-align: top;\n",
              "    }\n",
              "\n",
              "    .dataframe thead th {\n",
              "        text-align: right;\n",
              "    }\n",
              "</style>\n",
              "<table border=\"1\" class=\"dataframe\">\n",
              "  <thead>\n",
              "    <tr style=\"text-align: right;\">\n",
              "      <th></th>\n",
              "      <th>clump_thickness</th>\n",
              "      <th>size_uniformity</th>\n",
              "      <th>shape_uniformity</th>\n",
              "      <th>marginal_adhesion</th>\n",
              "      <th>epithelial_size</th>\n",
              "      <th>bare_nucleoli</th>\n",
              "      <th>bland_chromatin</th>\n",
              "      <th>normal_nucleoli</th>\n",
              "      <th>mitoses</th>\n",
              "      <th>class</th>\n",
              "    </tr>\n",
              "    <tr>\n",
              "      <th>id</th>\n",
              "      <th></th>\n",
              "      <th></th>\n",
              "      <th></th>\n",
              "      <th></th>\n",
              "      <th></th>\n",
              "      <th></th>\n",
              "      <th></th>\n",
              "      <th></th>\n",
              "      <th></th>\n",
              "      <th></th>\n",
              "    </tr>\n",
              "  </thead>\n",
              "  <tbody>\n",
              "    <tr>\n",
              "      <th>1000025</th>\n",
              "      <td>5</td>\n",
              "      <td>1</td>\n",
              "      <td>1</td>\n",
              "      <td>1</td>\n",
              "      <td>2</td>\n",
              "      <td>1</td>\n",
              "      <td>3</td>\n",
              "      <td>1</td>\n",
              "      <td>1</td>\n",
              "      <td>2</td>\n",
              "    </tr>\n",
              "    <tr>\n",
              "      <th>1002945</th>\n",
              "      <td>5</td>\n",
              "      <td>4</td>\n",
              "      <td>4</td>\n",
              "      <td>5</td>\n",
              "      <td>7</td>\n",
              "      <td>10</td>\n",
              "      <td>3</td>\n",
              "      <td>2</td>\n",
              "      <td>1</td>\n",
              "      <td>2</td>\n",
              "    </tr>\n",
              "    <tr>\n",
              "      <th>1015425</th>\n",
              "      <td>3</td>\n",
              "      <td>1</td>\n",
              "      <td>1</td>\n",
              "      <td>1</td>\n",
              "      <td>2</td>\n",
              "      <td>2</td>\n",
              "      <td>3</td>\n",
              "      <td>1</td>\n",
              "      <td>1</td>\n",
              "      <td>2</td>\n",
              "    </tr>\n",
              "    <tr>\n",
              "      <th>1016277</th>\n",
              "      <td>6</td>\n",
              "      <td>8</td>\n",
              "      <td>8</td>\n",
              "      <td>1</td>\n",
              "      <td>3</td>\n",
              "      <td>4</td>\n",
              "      <td>3</td>\n",
              "      <td>7</td>\n",
              "      <td>1</td>\n",
              "      <td>2</td>\n",
              "    </tr>\n",
              "    <tr>\n",
              "      <th>1017023</th>\n",
              "      <td>4</td>\n",
              "      <td>1</td>\n",
              "      <td>1</td>\n",
              "      <td>3</td>\n",
              "      <td>2</td>\n",
              "      <td>1</td>\n",
              "      <td>3</td>\n",
              "      <td>1</td>\n",
              "      <td>1</td>\n",
              "      <td>2</td>\n",
              "    </tr>\n",
              "  </tbody>\n",
              "</table>\n",
              "</div>"
            ],
            "text/plain": [
              "         clump_thickness  size_uniformity  ...  mitoses  class\n",
              "id                                         ...                \n",
              "1000025                5                1  ...        1      2\n",
              "1002945                5                4  ...        1      2\n",
              "1015425                3                1  ...        1      2\n",
              "1016277                6                8  ...        1      2\n",
              "1017023                4                1  ...        1      2\n",
              "\n",
              "[5 rows x 10 columns]"
            ]
          },
          "metadata": {
            "tags": []
          },
          "execution_count": 141
        }
      ]
    },
    {
      "cell_type": "markdown",
      "metadata": {
        "id": "cAsaAGoKttsd",
        "colab_type": "text"
      },
      "source": [
        "- Cancer do tipo 2 ==> Verdadeiro positivo\n",
        "- Cancer do tipo 4 ==> Verdadeiro negativo"
      ]
    },
    {
      "cell_type": "code",
      "metadata": {
        "id": "Gbh8G12FgKbG",
        "colab_type": "code",
        "colab": {
          "base_uri": "https://localhost:8080/",
          "height": 51
        },
        "outputId": "60bc9092-26ef-4ec6-d79c-11decad773c4"
      },
      "source": [
        "X_Cancer = df_Cancer.iloc[:, 0:-1]\n",
        "y_Cancer = df_Cancer.iloc[:, -1]\n",
        "svm_clf_Cancer = Pipeline([\n",
        "    (\"scaler\", StandardScaler()),\n",
        "    (\"linear_svc\", LinearSVC(C = 1, loss = \"hinge\", penalty='l2', max_iter = 1000)),\n",
        "])\n",
        "svm_clf_Cancer.fit(X_Cancer, y_Cancer)\n",
        "Predicao_Cancer = svm_clf_Cancer.predict(X_Cancer)\n",
        "confusion_matrix(y_Cancer, Predicao_Cancer)"
      ],
      "execution_count": 142,
      "outputs": [
        {
          "output_type": "execute_result",
          "data": {
            "text/plain": [
              "array([[432,  12],\n",
              "       [  7, 232]])"
            ]
          },
          "metadata": {
            "tags": []
          },
          "execution_count": 142
        }
      ]
    },
    {
      "cell_type": "code",
      "metadata": {
        "id": "L_wfzkZyuBW8",
        "colab_type": "code",
        "colab": {
          "base_uri": "https://localhost:8080/",
          "height": 34
        },
        "outputId": "2a7ac0b9-56fc-4bfe-c650-da19b8acaf08"
      },
      "source": [
        "len(y_Cancer)"
      ],
      "execution_count": 143,
      "outputs": [
        {
          "output_type": "execute_result",
          "data": {
            "text/plain": [
              "683"
            ]
          },
          "metadata": {
            "tags": []
          },
          "execution_count": 143
        }
      ]
    },
    {
      "cell_type": "code",
      "metadata": {
        "id": "U_OoL4tGuEm6",
        "colab_type": "code",
        "colab": {
          "base_uri": "https://localhost:8080/",
          "height": 68
        },
        "outputId": "05b01e00-d34c-4574-8b0f-4d92796aff47"
      },
      "source": [
        "y_Cancer.value_counts()"
      ],
      "execution_count": 144,
      "outputs": [
        {
          "output_type": "execute_result",
          "data": {
            "text/plain": [
              "2    444\n",
              "4    239\n",
              "Name: class, dtype: int64"
            ]
          },
          "metadata": {
            "tags": []
          },
          "execution_count": 144
        }
      ]
    },
    {
      "cell_type": "code",
      "metadata": {
        "id": "k_Vz6jnSgKbJ",
        "colab_type": "code",
        "colab": {
          "base_uri": "https://localhost:8080/",
          "height": 255
        },
        "outputId": "cff30afb-b64d-4c2a-8be7-1102e2cde552"
      },
      "source": [
        "df_Cancer_Resultado = df_Cancer.copy()\n",
        "df_Cancer_Resultado[\"Predicao_Cancer\"] = Predicao_Cancer\n",
        "df_Cancer_Resultado.head()"
      ],
      "execution_count": 145,
      "outputs": [
        {
          "output_type": "execute_result",
          "data": {
            "text/html": [
              "<div>\n",
              "<style scoped>\n",
              "    .dataframe tbody tr th:only-of-type {\n",
              "        vertical-align: middle;\n",
              "    }\n",
              "\n",
              "    .dataframe tbody tr th {\n",
              "        vertical-align: top;\n",
              "    }\n",
              "\n",
              "    .dataframe thead th {\n",
              "        text-align: right;\n",
              "    }\n",
              "</style>\n",
              "<table border=\"1\" class=\"dataframe\">\n",
              "  <thead>\n",
              "    <tr style=\"text-align: right;\">\n",
              "      <th></th>\n",
              "      <th>clump_thickness</th>\n",
              "      <th>size_uniformity</th>\n",
              "      <th>shape_uniformity</th>\n",
              "      <th>marginal_adhesion</th>\n",
              "      <th>epithelial_size</th>\n",
              "      <th>bare_nucleoli</th>\n",
              "      <th>bland_chromatin</th>\n",
              "      <th>normal_nucleoli</th>\n",
              "      <th>mitoses</th>\n",
              "      <th>class</th>\n",
              "      <th>Predicao_Cancer</th>\n",
              "    </tr>\n",
              "    <tr>\n",
              "      <th>id</th>\n",
              "      <th></th>\n",
              "      <th></th>\n",
              "      <th></th>\n",
              "      <th></th>\n",
              "      <th></th>\n",
              "      <th></th>\n",
              "      <th></th>\n",
              "      <th></th>\n",
              "      <th></th>\n",
              "      <th></th>\n",
              "      <th></th>\n",
              "    </tr>\n",
              "  </thead>\n",
              "  <tbody>\n",
              "    <tr>\n",
              "      <th>1000025</th>\n",
              "      <td>5</td>\n",
              "      <td>1</td>\n",
              "      <td>1</td>\n",
              "      <td>1</td>\n",
              "      <td>2</td>\n",
              "      <td>1</td>\n",
              "      <td>3</td>\n",
              "      <td>1</td>\n",
              "      <td>1</td>\n",
              "      <td>2</td>\n",
              "      <td>2</td>\n",
              "    </tr>\n",
              "    <tr>\n",
              "      <th>1002945</th>\n",
              "      <td>5</td>\n",
              "      <td>4</td>\n",
              "      <td>4</td>\n",
              "      <td>5</td>\n",
              "      <td>7</td>\n",
              "      <td>10</td>\n",
              "      <td>3</td>\n",
              "      <td>2</td>\n",
              "      <td>1</td>\n",
              "      <td>2</td>\n",
              "      <td>4</td>\n",
              "    </tr>\n",
              "    <tr>\n",
              "      <th>1015425</th>\n",
              "      <td>3</td>\n",
              "      <td>1</td>\n",
              "      <td>1</td>\n",
              "      <td>1</td>\n",
              "      <td>2</td>\n",
              "      <td>2</td>\n",
              "      <td>3</td>\n",
              "      <td>1</td>\n",
              "      <td>1</td>\n",
              "      <td>2</td>\n",
              "      <td>2</td>\n",
              "    </tr>\n",
              "    <tr>\n",
              "      <th>1016277</th>\n",
              "      <td>6</td>\n",
              "      <td>8</td>\n",
              "      <td>8</td>\n",
              "      <td>1</td>\n",
              "      <td>3</td>\n",
              "      <td>4</td>\n",
              "      <td>3</td>\n",
              "      <td>7</td>\n",
              "      <td>1</td>\n",
              "      <td>2</td>\n",
              "      <td>4</td>\n",
              "    </tr>\n",
              "    <tr>\n",
              "      <th>1017023</th>\n",
              "      <td>4</td>\n",
              "      <td>1</td>\n",
              "      <td>1</td>\n",
              "      <td>3</td>\n",
              "      <td>2</td>\n",
              "      <td>1</td>\n",
              "      <td>3</td>\n",
              "      <td>1</td>\n",
              "      <td>1</td>\n",
              "      <td>2</td>\n",
              "      <td>2</td>\n",
              "    </tr>\n",
              "  </tbody>\n",
              "</table>\n",
              "</div>"
            ],
            "text/plain": [
              "         clump_thickness  size_uniformity  ...  class  Predicao_Cancer\n",
              "id                                         ...                        \n",
              "1000025                5                1  ...      2                2\n",
              "1002945                5                4  ...      2                4\n",
              "1015425                3                1  ...      2                2\n",
              "1016277                6                8  ...      2                4\n",
              "1017023                4                1  ...      2                2\n",
              "\n",
              "[5 rows x 11 columns]"
            ]
          },
          "metadata": {
            "tags": []
          },
          "execution_count": 145
        }
      ]
    },
    {
      "cell_type": "markdown",
      "metadata": {
        "id": "tBWaZNtiu1rQ",
        "colab_type": "text"
      },
      "source": [
        "$W = X^T * y + \\xi(Erro)$\n",
        "\n",
        "- Onde a constante, por padrão, e igual a 1\n",
        "- Constante alta (maior que 1) você considera mais o erro\n",
        "_ Constante baixa (menor que 1 ou pode ser até 0) você rejeita mais o erro"
      ]
    },
    {
      "cell_type": "code",
      "metadata": {
        "id": "sB2WtxDpufKJ",
        "colab_type": "code",
        "colab": {
          "base_uri": "https://localhost:8080/",
          "height": 450
        },
        "outputId": "c41aac9b-6fc3-4f5a-8f4c-a232558b3fd6"
      },
      "source": [
        "df_Cancer_Resultado.iloc[:, -2:]"
      ],
      "execution_count": 146,
      "outputs": [
        {
          "output_type": "execute_result",
          "data": {
            "text/html": [
              "<div>\n",
              "<style scoped>\n",
              "    .dataframe tbody tr th:only-of-type {\n",
              "        vertical-align: middle;\n",
              "    }\n",
              "\n",
              "    .dataframe tbody tr th {\n",
              "        vertical-align: top;\n",
              "    }\n",
              "\n",
              "    .dataframe thead th {\n",
              "        text-align: right;\n",
              "    }\n",
              "</style>\n",
              "<table border=\"1\" class=\"dataframe\">\n",
              "  <thead>\n",
              "    <tr style=\"text-align: right;\">\n",
              "      <th></th>\n",
              "      <th>class</th>\n",
              "      <th>Predicao_Cancer</th>\n",
              "    </tr>\n",
              "    <tr>\n",
              "      <th>id</th>\n",
              "      <th></th>\n",
              "      <th></th>\n",
              "    </tr>\n",
              "  </thead>\n",
              "  <tbody>\n",
              "    <tr>\n",
              "      <th>1000025</th>\n",
              "      <td>2</td>\n",
              "      <td>2</td>\n",
              "    </tr>\n",
              "    <tr>\n",
              "      <th>1002945</th>\n",
              "      <td>2</td>\n",
              "      <td>4</td>\n",
              "    </tr>\n",
              "    <tr>\n",
              "      <th>1015425</th>\n",
              "      <td>2</td>\n",
              "      <td>2</td>\n",
              "    </tr>\n",
              "    <tr>\n",
              "      <th>1016277</th>\n",
              "      <td>2</td>\n",
              "      <td>4</td>\n",
              "    </tr>\n",
              "    <tr>\n",
              "      <th>1017023</th>\n",
              "      <td>2</td>\n",
              "      <td>2</td>\n",
              "    </tr>\n",
              "    <tr>\n",
              "      <th>...</th>\n",
              "      <td>...</td>\n",
              "      <td>...</td>\n",
              "    </tr>\n",
              "    <tr>\n",
              "      <th>776715</th>\n",
              "      <td>2</td>\n",
              "      <td>2</td>\n",
              "    </tr>\n",
              "    <tr>\n",
              "      <th>841769</th>\n",
              "      <td>2</td>\n",
              "      <td>2</td>\n",
              "    </tr>\n",
              "    <tr>\n",
              "      <th>888820</th>\n",
              "      <td>4</td>\n",
              "      <td>4</td>\n",
              "    </tr>\n",
              "    <tr>\n",
              "      <th>897471</th>\n",
              "      <td>4</td>\n",
              "      <td>4</td>\n",
              "    </tr>\n",
              "    <tr>\n",
              "      <th>897471</th>\n",
              "      <td>4</td>\n",
              "      <td>4</td>\n",
              "    </tr>\n",
              "  </tbody>\n",
              "</table>\n",
              "<p>683 rows × 2 columns</p>\n",
              "</div>"
            ],
            "text/plain": [
              "         class  Predicao_Cancer\n",
              "id                             \n",
              "1000025      2                2\n",
              "1002945      2                4\n",
              "1015425      2                2\n",
              "1016277      2                4\n",
              "1017023      2                2\n",
              "...        ...              ...\n",
              "776715       2                2\n",
              "841769       2                2\n",
              "888820       4                4\n",
              "897471       4                4\n",
              "897471       4                4\n",
              "\n",
              "[683 rows x 2 columns]"
            ]
          },
          "metadata": {
            "tags": []
          },
          "execution_count": 146
        }
      ]
    },
    {
      "cell_type": "code",
      "metadata": {
        "id": "OP1olPQ-gKbL",
        "colab_type": "code",
        "colab": {}
      },
      "source": [
        "from sklearn.metrics import accuracy_score"
      ],
      "execution_count": 0,
      "outputs": []
    },
    {
      "cell_type": "code",
      "metadata": {
        "id": "JUje728ZgKbO",
        "colab_type": "code",
        "colab": {
          "base_uri": "https://localhost:8080/",
          "height": 34
        },
        "outputId": "24cda33a-8385-4a53-8e54-6ab12387fe45"
      },
      "source": [
        "Acuracia_Cancer = accuracy_score(y_Cancer, Predicao_Cancer)\n",
        "Acuracia_Cancer = round(Acuracia_Cancer * 100, 2)\n",
        "Acuracia_Cancer"
      ],
      "execution_count": 148,
      "outputs": [
        {
          "output_type": "execute_result",
          "data": {
            "text/plain": [
              "97.22"
            ]
          },
          "metadata": {
            "tags": []
          },
          "execution_count": 148
        }
      ]
    },
    {
      "cell_type": "code",
      "metadata": {
        "id": "ziX1-s_vgKbR",
        "colab_type": "code",
        "colab": {
          "base_uri": "https://localhost:8080/",
          "height": 603
        },
        "outputId": "c0952407-697d-4c05-a7e8-4698ad9b4ac9"
      },
      "source": [
        "valor = 10\n",
        "plt.figure(figsize = (16, 6))\n",
        "Parametros_Plot_mlxtend = {\"X\" : X_Cancer.values,\n",
        "                           \"y\" : y_Cancer.values,\n",
        "                           \"clf\" : svm_clf_Cancer,\n",
        "                           \"filler_feature_values\" : {2: valor, 3: valor, 4: valor, 5: valor, 6: valor, 7: valor, 8: valor},\n",
        "                           \"filler_feature_ranges\" : {2: valor, 3: valor, 4: valor, 5: valor, 6: valor, 7: valor, 8: valor}\n",
        "                          }\n",
        "fig = plt.figure(figsize=(12, 8))\n",
        "plot_decision_regions(**Parametros_Plot_mlxtend)\n",
        "plt.xlabel(X_Cancer.columns[0], size = 16)\n",
        "plt.ylabel(X_Cancer.columns[1], size = 16)\n",
        "plt.title(f'Fronteira Separadora do SVM para Tipos de Cancer com {Acuracia_Cancer}%', size = 20)\n",
        "plt.show();"
      ],
      "execution_count": 150,
      "outputs": [
        {
          "output_type": "stream",
          "text": [
            "/usr/local/lib/python3.6/dist-packages/mlxtend/plotting/decision_regions.py:242: UserWarning: No contour levels were found within the data range.\n",
            "  antialiased=True)\n",
            "/usr/local/lib/python3.6/dist-packages/mlxtend/plotting/decision_regions.py:244: MatplotlibDeprecationWarning: Passing unsupported keyword arguments to axis() will raise a TypeError in 3.3.\n",
            "  ax.axis(xmin=xx.min(), xmax=xx.max(), y_min=yy.min(), y_max=yy.max())\n"
          ],
          "name": "stderr"
        },
        {
          "output_type": "display_data",
          "data": {
            "text/plain": [
              "<Figure size 1152x432 with 0 Axes>"
            ]
          },
          "metadata": {
            "tags": []
          }
        },
        {
          "output_type": "display_data",
          "data": {
            "image/png": "[encoded data removed]",
            "text/plain": [
              "<Figure size 864x576 with 1 Axes>"
            ]
          },
          "metadata": {
            "tags": [],
            "needs_background": "light"
          }
        }
      ]
    },
    {
      "cell_type": "markdown",
      "metadata": {
        "id": "r-nLoy2kxNvE",
        "colab_type": "text"
      },
      "source": [
        "### 5.2.5 Rodar a base de câncer com apenas as duas colunas com melhor correlação"
      ]
    },
    {
      "cell_type": "code",
      "metadata": {
        "id": "Gkp3_HHZgKbX",
        "colab_type": "code",
        "colab": {
          "base_uri": "https://localhost:8080/",
          "height": 359
        },
        "outputId": "67c8f733-33af-4e53-fe5d-170f4e475b17"
      },
      "source": [
        "df_Cancer.corr().iloc[:, -1:]"
      ],
      "execution_count": 152,
      "outputs": [
        {
          "output_type": "execute_result",
          "data": {
            "text/html": [
              "<div>\n",
              "<style scoped>\n",
              "    .dataframe tbody tr th:only-of-type {\n",
              "        vertical-align: middle;\n",
              "    }\n",
              "\n",
              "    .dataframe tbody tr th {\n",
              "        vertical-align: top;\n",
              "    }\n",
              "\n",
              "    .dataframe thead th {\n",
              "        text-align: right;\n",
              "    }\n",
              "</style>\n",
              "<table border=\"1\" class=\"dataframe\">\n",
              "  <thead>\n",
              "    <tr style=\"text-align: right;\">\n",
              "      <th></th>\n",
              "      <th>class</th>\n",
              "    </tr>\n",
              "  </thead>\n",
              "  <tbody>\n",
              "    <tr>\n",
              "      <th>clump_thickness</th>\n",
              "      <td>0.714790</td>\n",
              "    </tr>\n",
              "    <tr>\n",
              "      <th>size_uniformity</th>\n",
              "      <td>0.820801</td>\n",
              "    </tr>\n",
              "    <tr>\n",
              "      <th>shape_uniformity</th>\n",
              "      <td>0.821891</td>\n",
              "    </tr>\n",
              "    <tr>\n",
              "      <th>marginal_adhesion</th>\n",
              "      <td>0.706294</td>\n",
              "    </tr>\n",
              "    <tr>\n",
              "      <th>epithelial_size</th>\n",
              "      <td>0.690958</td>\n",
              "    </tr>\n",
              "    <tr>\n",
              "      <th>bare_nucleoli</th>\n",
              "      <td>0.822696</td>\n",
              "    </tr>\n",
              "    <tr>\n",
              "      <th>bland_chromatin</th>\n",
              "      <td>0.758228</td>\n",
              "    </tr>\n",
              "    <tr>\n",
              "      <th>normal_nucleoli</th>\n",
              "      <td>0.718677</td>\n",
              "    </tr>\n",
              "    <tr>\n",
              "      <th>mitoses</th>\n",
              "      <td>0.423448</td>\n",
              "    </tr>\n",
              "    <tr>\n",
              "      <th>class</th>\n",
              "      <td>1.000000</td>\n",
              "    </tr>\n",
              "  </tbody>\n",
              "</table>\n",
              "</div>"
            ],
            "text/plain": [
              "                      class\n",
              "clump_thickness    0.714790\n",
              "size_uniformity    0.820801\n",
              "shape_uniformity   0.821891\n",
              "marginal_adhesion  0.706294\n",
              "epithelial_size    0.690958\n",
              "bare_nucleoli      0.822696\n",
              "bland_chromatin    0.758228\n",
              "normal_nucleoli    0.718677\n",
              "mitoses            0.423448\n",
              "class              1.000000"
            ]
          },
          "metadata": {
            "tags": []
          },
          "execution_count": 152
        }
      ]
    },
    {
      "cell_type": "code",
      "metadata": {
        "id": "tE_h9_Zcxkce",
        "colab_type": "code",
        "colab": {
          "base_uri": "https://localhost:8080/",
          "height": 204
        },
        "outputId": "27de15c5-0741-43be-9ff8-3eec416574c3"
      },
      "source": [
        "df_Cancer.corr()['class']"
      ],
      "execution_count": 153,
      "outputs": [
        {
          "output_type": "execute_result",
          "data": {
            "text/plain": [
              "clump_thickness      0.714790\n",
              "size_uniformity      0.820801\n",
              "shape_uniformity     0.821891\n",
              "marginal_adhesion    0.706294\n",
              "epithelial_size      0.690958\n",
              "bare_nucleoli        0.822696\n",
              "bland_chromatin      0.758228\n",
              "normal_nucleoli      0.718677\n",
              "mitoses              0.423448\n",
              "class                1.000000\n",
              "Name: class, dtype: float64"
            ]
          },
          "metadata": {
            "tags": []
          },
          "execution_count": 153
        }
      ]
    },
    {
      "cell_type": "code",
      "metadata": {
        "id": "pImHvwuoxyfB",
        "colab_type": "code",
        "colab": {
          "base_uri": "https://localhost:8080/",
          "height": 359
        },
        "outputId": "1b0eca80-985f-4e5d-c5ee-e97870a91e7b"
      },
      "source": [
        "df_Cancer.corr().iloc[:, -1:].sort_values(by='class')"
      ],
      "execution_count": 154,
      "outputs": [
        {
          "output_type": "execute_result",
          "data": {
            "text/html": [
              "<div>\n",
              "<style scoped>\n",
              "    .dataframe tbody tr th:only-of-type {\n",
              "        vertical-align: middle;\n",
              "    }\n",
              "\n",
              "    .dataframe tbody tr th {\n",
              "        vertical-align: top;\n",
              "    }\n",
              "\n",
              "    .dataframe thead th {\n",
              "        text-align: right;\n",
              "    }\n",
              "</style>\n",
              "<table border=\"1\" class=\"dataframe\">\n",
              "  <thead>\n",
              "    <tr style=\"text-align: right;\">\n",
              "      <th></th>\n",
              "      <th>class</th>\n",
              "    </tr>\n",
              "  </thead>\n",
              "  <tbody>\n",
              "    <tr>\n",
              "      <th>mitoses</th>\n",
              "      <td>0.423448</td>\n",
              "    </tr>\n",
              "    <tr>\n",
              "      <th>epithelial_size</th>\n",
              "      <td>0.690958</td>\n",
              "    </tr>\n",
              "    <tr>\n",
              "      <th>marginal_adhesion</th>\n",
              "      <td>0.706294</td>\n",
              "    </tr>\n",
              "    <tr>\n",
              "      <th>clump_thickness</th>\n",
              "      <td>0.714790</td>\n",
              "    </tr>\n",
              "    <tr>\n",
              "      <th>normal_nucleoli</th>\n",
              "      <td>0.718677</td>\n",
              "    </tr>\n",
              "    <tr>\n",
              "      <th>bland_chromatin</th>\n",
              "      <td>0.758228</td>\n",
              "    </tr>\n",
              "    <tr>\n",
              "      <th>size_uniformity</th>\n",
              "      <td>0.820801</td>\n",
              "    </tr>\n",
              "    <tr>\n",
              "      <th>shape_uniformity</th>\n",
              "      <td>0.821891</td>\n",
              "    </tr>\n",
              "    <tr>\n",
              "      <th>bare_nucleoli</th>\n",
              "      <td>0.822696</td>\n",
              "    </tr>\n",
              "    <tr>\n",
              "      <th>class</th>\n",
              "      <td>1.000000</td>\n",
              "    </tr>\n",
              "  </tbody>\n",
              "</table>\n",
              "</div>"
            ],
            "text/plain": [
              "                      class\n",
              "mitoses            0.423448\n",
              "epithelial_size    0.690958\n",
              "marginal_adhesion  0.706294\n",
              "clump_thickness    0.714790\n",
              "normal_nucleoli    0.718677\n",
              "bland_chromatin    0.758228\n",
              "size_uniformity    0.820801\n",
              "shape_uniformity   0.821891\n",
              "bare_nucleoli      0.822696\n",
              "class              1.000000"
            ]
          },
          "metadata": {
            "tags": []
          },
          "execution_count": 154
        }
      ]
    },
    {
      "cell_type": "code",
      "metadata": {
        "id": "29f9GUhgxyXA",
        "colab_type": "code",
        "colab": {
          "base_uri": "https://localhost:8080/",
          "height": 235
        },
        "outputId": "4662f5e3-19d7-4534-acbc-b36721786a12"
      },
      "source": [
        "df_Cancer_Otimizada = df_Cancer.loc[:, ['bare_nucleoli', 'shape_uniformity', 'class']]\n",
        "df_Cancer_Otimizada.head()"
      ],
      "execution_count": 158,
      "outputs": [
        {
          "output_type": "execute_result",
          "data": {
            "text/html": [
              "<div>\n",
              "<style scoped>\n",
              "    .dataframe tbody tr th:only-of-type {\n",
              "        vertical-align: middle;\n",
              "    }\n",
              "\n",
              "    .dataframe tbody tr th {\n",
              "        vertical-align: top;\n",
              "    }\n",
              "\n",
              "    .dataframe thead th {\n",
              "        text-align: right;\n",
              "    }\n",
              "</style>\n",
              "<table border=\"1\" class=\"dataframe\">\n",
              "  <thead>\n",
              "    <tr style=\"text-align: right;\">\n",
              "      <th></th>\n",
              "      <th>bare_nucleoli</th>\n",
              "      <th>shape_uniformity</th>\n",
              "      <th>class</th>\n",
              "    </tr>\n",
              "    <tr>\n",
              "      <th>id</th>\n",
              "      <th></th>\n",
              "      <th></th>\n",
              "      <th></th>\n",
              "    </tr>\n",
              "  </thead>\n",
              "  <tbody>\n",
              "    <tr>\n",
              "      <th>1000025</th>\n",
              "      <td>1</td>\n",
              "      <td>1</td>\n",
              "      <td>2</td>\n",
              "    </tr>\n",
              "    <tr>\n",
              "      <th>1002945</th>\n",
              "      <td>10</td>\n",
              "      <td>4</td>\n",
              "      <td>2</td>\n",
              "    </tr>\n",
              "    <tr>\n",
              "      <th>1015425</th>\n",
              "      <td>2</td>\n",
              "      <td>1</td>\n",
              "      <td>2</td>\n",
              "    </tr>\n",
              "    <tr>\n",
              "      <th>1016277</th>\n",
              "      <td>4</td>\n",
              "      <td>8</td>\n",
              "      <td>2</td>\n",
              "    </tr>\n",
              "    <tr>\n",
              "      <th>1017023</th>\n",
              "      <td>1</td>\n",
              "      <td>1</td>\n",
              "      <td>2</td>\n",
              "    </tr>\n",
              "  </tbody>\n",
              "</table>\n",
              "</div>"
            ],
            "text/plain": [
              "         bare_nucleoli  shape_uniformity  class\n",
              "id                                             \n",
              "1000025              1                 1      2\n",
              "1002945             10                 4      2\n",
              "1015425              2                 1      2\n",
              "1016277              4                 8      2\n",
              "1017023              1                 1      2"
            ]
          },
          "metadata": {
            "tags": []
          },
          "execution_count": 158
        }
      ]
    },
    {
      "cell_type": "code",
      "metadata": {
        "id": "k0vQQjDsxyVp",
        "colab_type": "code",
        "colab": {}
      },
      "source": [
        ""
      ],
      "execution_count": 0,
      "outputs": []
    },
    {
      "cell_type": "code",
      "metadata": {
        "id": "_WTcOax4xo7A",
        "colab_type": "code",
        "colab": {
          "base_uri": "https://localhost:8080/",
          "height": 51
        },
        "outputId": "3ca54721-03cb-469f-ed37-e23bb58aed6a"
      },
      "source": [
        "X_Cancer_Otimizada = df_Cancer_Otimizada.iloc[:, 0:-1]\n",
        "y_Cancer_Otimizada = df_Cancer_Otimizada.iloc[:, -1]\n",
        "svm_clf_Cancer_Otimizada = Pipeline([\n",
        "    (\"scaler\", StandardScaler()),\n",
        "    (\"linear_svc\", LinearSVC(C = 1, loss = \"hinge\", penalty='l2', max_iter = 1000)),\n",
        "])\n",
        "svm_clf_Cancer_Otimizada.fit(X_Cancer_Otimizada, y_Cancer_Otimizada)\n",
        "Predicao_Cancer_Otimizada = svm_clf_Cancer_Otimizada.predict(X_Cancer_Otimizada)\n",
        "confusion_matrix(y_Cancer_Otimizada, Predicao_Cancer_Otimizada)"
      ],
      "execution_count": 161,
      "outputs": [
        {
          "output_type": "execute_result",
          "data": {
            "text/plain": [
              "array([[430,  14],\n",
              "       [ 16, 223]])"
            ]
          },
          "metadata": {
            "tags": []
          },
          "execution_count": 161
        }
      ]
    },
    {
      "cell_type": "code",
      "metadata": {
        "id": "Vg4LKMcSysUb",
        "colab_type": "code",
        "colab": {
          "base_uri": "https://localhost:8080/",
          "height": 235
        },
        "outputId": "b6f4d62b-8db0-4452-b30d-50bea5c56387"
      },
      "source": [
        "df_Cancer_Otimizada_Resultado = df_Cancer_Otimizada.copy()\n",
        "df_Cancer_Otimizada_Resultado[\"Predicao_Cancer_Otimizada\"] = Predicao_Cancer_Otimizada\n",
        "df_Cancer_Otimizada_Resultado.head()"
      ],
      "execution_count": 163,
      "outputs": [
        {
          "output_type": "execute_result",
          "data": {
            "text/html": [
              "<div>\n",
              "<style scoped>\n",
              "    .dataframe tbody tr th:only-of-type {\n",
              "        vertical-align: middle;\n",
              "    }\n",
              "\n",
              "    .dataframe tbody tr th {\n",
              "        vertical-align: top;\n",
              "    }\n",
              "\n",
              "    .dataframe thead th {\n",
              "        text-align: right;\n",
              "    }\n",
              "</style>\n",
              "<table border=\"1\" class=\"dataframe\">\n",
              "  <thead>\n",
              "    <tr style=\"text-align: right;\">\n",
              "      <th></th>\n",
              "      <th>bare_nucleoli</th>\n",
              "      <th>shape_uniformity</th>\n",
              "      <th>class</th>\n",
              "      <th>Predicao_Cancer_Otimizada</th>\n",
              "    </tr>\n",
              "    <tr>\n",
              "      <th>id</th>\n",
              "      <th></th>\n",
              "      <th></th>\n",
              "      <th></th>\n",
              "      <th></th>\n",
              "    </tr>\n",
              "  </thead>\n",
              "  <tbody>\n",
              "    <tr>\n",
              "      <th>1000025</th>\n",
              "      <td>1</td>\n",
              "      <td>1</td>\n",
              "      <td>2</td>\n",
              "      <td>2</td>\n",
              "    </tr>\n",
              "    <tr>\n",
              "      <th>1002945</th>\n",
              "      <td>10</td>\n",
              "      <td>4</td>\n",
              "      <td>2</td>\n",
              "      <td>4</td>\n",
              "    </tr>\n",
              "    <tr>\n",
              "      <th>1015425</th>\n",
              "      <td>2</td>\n",
              "      <td>1</td>\n",
              "      <td>2</td>\n",
              "      <td>2</td>\n",
              "    </tr>\n",
              "    <tr>\n",
              "      <th>1016277</th>\n",
              "      <td>4</td>\n",
              "      <td>8</td>\n",
              "      <td>2</td>\n",
              "      <td>4</td>\n",
              "    </tr>\n",
              "    <tr>\n",
              "      <th>1017023</th>\n",
              "      <td>1</td>\n",
              "      <td>1</td>\n",
              "      <td>2</td>\n",
              "      <td>2</td>\n",
              "    </tr>\n",
              "  </tbody>\n",
              "</table>\n",
              "</div>"
            ],
            "text/plain": [
              "         bare_nucleoli  shape_uniformity  class  Predicao_Cancer_Otimizada\n",
              "id                                                                        \n",
              "1000025              1                 1      2                          2\n",
              "1002945             10                 4      2                          4\n",
              "1015425              2                 1      2                          2\n",
              "1016277              4                 8      2                          4\n",
              "1017023              1                 1      2                          2"
            ]
          },
          "metadata": {
            "tags": []
          },
          "execution_count": 163
        }
      ]
    },
    {
      "cell_type": "code",
      "metadata": {
        "id": "T4Of_5r7y_Jx",
        "colab_type": "code",
        "colab": {
          "base_uri": "https://localhost:8080/",
          "height": 34
        },
        "outputId": "c01ef306-62da-408f-b58c-1186527792f1"
      },
      "source": [
        "Acuracia_Cancer_Otimizada = accuracy_score(y_Cancer_Otimizada, Predicao_Cancer_Otimizada)\n",
        "Acuracia_Cancer_Otimizada = round(Acuracia_Cancer_Otimizada * 100, 2)\n",
        "Acuracia_Cancer_Otimizada"
      ],
      "execution_count": 165,
      "outputs": [
        {
          "output_type": "execute_result",
          "data": {
            "text/plain": [
              "95.61"
            ]
          },
          "metadata": {
            "tags": []
          },
          "execution_count": 165
        }
      ]
    },
    {
      "cell_type": "code",
      "metadata": {
        "id": "D3XcB-ZuzRQ4",
        "colab_type": "code",
        "colab": {
          "base_uri": "https://localhost:8080/",
          "height": 539
        },
        "outputId": "760cfba1-3365-467d-8ca0-51e23f5da803"
      },
      "source": [
        "valor = 10\n",
        "plt.figure(figsize = (16, 6))\n",
        "Parametros_Plot_mlxtend = {\"X\" : X_Cancer_Otimizada.values,\n",
        "                           \"y\" : y_Cancer_Otimizada.values,\n",
        "                           \"clf\" : svm_clf_Cancer_Otimizada,\n",
        "                           \"filler_feature_values\" : {2: valor, 3: valor, 4: valor, 5: valor, 6: valor, 7: valor, 8: valor},\n",
        "                           \"filler_feature_ranges\" : {2: valor, 3: valor, 4: valor, 5: valor, 6: valor, 7: valor, 8: valor}\n",
        "                          }\n",
        "fig = plt.figure(figsize=(12, 8))\n",
        "plot_decision_regions(**Parametros_Plot_mlxtend)\n",
        "plt.xlabel(X_Cancer_Otimizada.columns[0], size = 16)\n",
        "plt.ylabel(X_Cancer_Otimizada.columns[1], size = 16)\n",
        "plt.title(f'Fronteira Separadora do SVM para Tipos de Cancer_Otimizada com {Acuracia_Cancer_Otimizada}%', size = 20)\n",
        "plt.savefig(\"Gráfico_Cancer_Otimizada.jpg\")\n",
        "plt.show();"
      ],
      "execution_count": 167,
      "outputs": [
        {
          "output_type": "stream",
          "text": [
            "/usr/local/lib/python3.6/dist-packages/mlxtend/plotting/decision_regions.py:244: MatplotlibDeprecationWarning: Passing unsupported keyword arguments to axis() will raise a TypeError in 3.3.\n",
            "  ax.axis(xmin=xx.min(), xmax=xx.max(), y_min=yy.min(), y_max=yy.max())\n"
          ],
          "name": "stderr"
        },
        {
          "output_type": "display_data",
          "data": {
            "text/plain": [
              "<Figure size 1152x432 with 0 Axes>"
            ]
          },
          "metadata": {
            "tags": []
          }
        },
        {
          "output_type": "display_data",
          "data": {
            "image/png": "[encoded data removed]",
            "text/plain": [
              "<Figure size 864x576 with 1 Axes>"
            ]
          },
          "metadata": {
            "tags": [],
            "needs_background": "light"
          }
        }
      ]
    },
    {
      "cell_type": "code",
      "metadata": {
        "id": "WQ3t1xfRzqTj",
        "colab_type": "code",
        "colab": {}
      },
      "source": [
        ""
      ],
      "execution_count": 0,
      "outputs": []
    }
  ]
}